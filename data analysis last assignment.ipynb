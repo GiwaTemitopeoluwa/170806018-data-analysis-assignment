{
 "cells": [
  {
   "cell_type": "code",
   "execution_count": 15,
   "id": "e1de69be",
   "metadata": {},
   "outputs": [],
   "source": [
    "import scipy.stats\n",
    "import pandas as pd"
   ]
  },
  {
   "cell_type": "code",
   "execution_count": 16,
   "id": "b0607ea2",
   "metadata": {},
   "outputs": [
    {
     "name": "stdout",
     "output_type": "stream",
     "text": [
      "    Chocolate  Soda  Pizza  Ice cream  Avocado  Milk\n",
      "0        3716  1089   1089       1481     2215  1202\n",
      "1        3772   912    912       1676     2122  1053\n",
      "2        3646  1149   1149       1817     1916  1057\n",
      "3        3775  1211   1211       1857     2188  1156\n",
      "4        3517  1244   1244       1769     2239  1061\n",
      "5        3625  1060   1060       1612     2162  1062\n",
      "6        3585  1190   1190       1508     1948  1098\n",
      "7        3751   877    877       1774     2111  1110\n",
      "8        3584  1234   1234       1668     2131  1083\n",
      "9        3658  1160   1160       1576     1965  1177\n",
      "10       3720  1156   1156       1545     2227  1158\n",
      "11       3692  1128   1128       1662     1932  1130\n",
      "12       3844  1064   1064       1639     1928  1132\n",
      "13       3773  1133   1133       1671     1791  1203\n",
      "14       3723  1243   1243       1465     2172  1103\n",
      "15       3512  1124   1124       1698     2123  1146\n",
      "16       3771  1164   1164       1598     2031  1133\n",
      "17       3805  1163   1163       1678     1791  1145\n",
      "18       3613  1213   1213       1821     2083  1185\n",
      "19       3830  1068   1068       1459     2028  1111\n"
     ]
    }
   ],
   "source": [
    "tabl = pd.read_csv(\"kruskal data.csv\") \n",
    "print(tabl)"
   ]
  },
  {
   "cell_type": "code",
   "execution_count": 17,
   "id": "c5dad463",
   "metadata": {},
   "outputs": [
    {
     "name": "stdout",
     "output_type": "stream",
     "text": [
      "The kruskal statistic is  102.6707\n",
      "The P-value is  0.0\n",
      "Reject the null hypothesis for alpha is 0.05\n",
      "Reject the null hypothesis for alpha is 0.01\n",
      "Reject the null hypothesis for alpha is 0.1\n"
     ]
    }
   ],
   "source": [
    "#Kruskal Wallis Test\n",
    "statistic , Pvalue = scipy.stats.kruskal(tabl[\"Chocolate\"],tabl[\"Soda\"],tabl[\"Pizza\"],\n",
    "        tabl[\"Ice cream\"],tabl[\"Avocado\"],tabl[\"Milk\"])\n",
    "\n",
    "print(\"The kruskal statistic is \",round(statistic,4))\n",
    "print(\"The P-value is \",round(Pvalue,4))\n",
    "\n",
    "alpha1 = 0.05\n",
    "if alpha1 < Pvalue:\n",
    "    print(\"Fail to reject the null hypothesis for alpha is 0.05\")\n",
    "else:\n",
    "    print(\"Reject the null hypothesis for alpha is 0.05\")\n",
    "    \n",
    "alpha2 = 0.01\n",
    "if alpha2 < Pvalue:\n",
    "    print(\"Fail to reject the null hypothesis for alpha is 0.01\")\n",
    "else:\n",
    "    print(\"Reject the null hypothesis for alpha is 0.01\")    \n",
    "    \n",
    "alpha3 = 0.1\n",
    "if alpha3 < Pvalue:\n",
    "    print(\"Fail to reject the null hypothesis for alpha is 0.1\")\n",
    "else:\n",
    "    print(\"Reject the null hypothesis for alpha is 0.1\")    \n",
    "    \n",
    "    \n",
    "\n",
    "#Null hypothesis(H₀): All medians are equal(The 6 types of food have equal effects on the weight gain)\n",
    "#Alternative hypothesis(H₁): At least one median is different(The 6 types of food do not have equal effects on the weight gain)"
   ]
  },
  {
   "cell_type": "code",
   "execution_count": 18,
   "id": "65696351",
   "metadata": {},
   "outputs": [
    {
     "data": {
      "text/html": [
       "<div>\n",
       "<style scoped>\n",
       "    .dataframe tbody tr th:only-of-type {\n",
       "        vertical-align: middle;\n",
       "    }\n",
       "\n",
       "    .dataframe tbody tr th {\n",
       "        vertical-align: top;\n",
       "    }\n",
       "\n",
       "    .dataframe thead th {\n",
       "        text-align: right;\n",
       "    }\n",
       "</style>\n",
       "<table border=\"1\" class=\"dataframe\">\n",
       "  <thead>\n",
       "    <tr style=\"text-align: right;\">\n",
       "      <th></th>\n",
       "      <th>During</th>\n",
       "      <th>After</th>\n",
       "    </tr>\n",
       "  </thead>\n",
       "  <tbody>\n",
       "    <tr>\n",
       "      <th>count</th>\n",
       "      <td>20.000000</td>\n",
       "      <td>20.000000</td>\n",
       "    </tr>\n",
       "    <tr>\n",
       "      <th>mean</th>\n",
       "      <td>14.350000</td>\n",
       "      <td>7.050000</td>\n",
       "    </tr>\n",
       "    <tr>\n",
       "      <th>std</th>\n",
       "      <td>3.265046</td>\n",
       "      <td>1.731291</td>\n",
       "    </tr>\n",
       "    <tr>\n",
       "      <th>min</th>\n",
       "      <td>10.000000</td>\n",
       "      <td>5.000000</td>\n",
       "    </tr>\n",
       "    <tr>\n",
       "      <th>25%</th>\n",
       "      <td>11.750000</td>\n",
       "      <td>5.750000</td>\n",
       "    </tr>\n",
       "    <tr>\n",
       "      <th>50%</th>\n",
       "      <td>14.000000</td>\n",
       "      <td>7.000000</td>\n",
       "    </tr>\n",
       "    <tr>\n",
       "      <th>75%</th>\n",
       "      <td>17.000000</td>\n",
       "      <td>8.000000</td>\n",
       "    </tr>\n",
       "    <tr>\n",
       "      <th>max</th>\n",
       "      <td>20.000000</td>\n",
       "      <td>10.000000</td>\n",
       "    </tr>\n",
       "  </tbody>\n",
       "</table>\n",
       "</div>"
      ],
      "text/plain": [
       "          During      After\n",
       "count  20.000000  20.000000\n",
       "mean   14.350000   7.050000\n",
       "std     3.265046   1.731291\n",
       "min    10.000000   5.000000\n",
       "25%    11.750000   5.750000\n",
       "50%    14.000000   7.000000\n",
       "75%    17.000000   8.000000\n",
       "max    20.000000  10.000000"
      ]
     },
     "execution_count": 18,
     "metadata": {},
     "output_type": "execute_result"
    }
   ],
   "source": [
    "#Obtaining the summary of the simulated data\n",
    "import pandas as pd\n",
    "wilcox = pd.read_csv(\"wilcoxon.csv\")\n",
    "wilcox[[\"During\",\"After\"]].describe()"
   ]
  },
  {
   "cell_type": "code",
   "execution_count": 19,
   "id": "668fdded",
   "metadata": {},
   "outputs": [
    {
     "name": "stdout",
     "output_type": "stream",
     "text": [
      "The wilcoxon statistic =  0.0\n",
      "The wilcoxon pvalue =  1.9073486328125e-06\n",
      "Reject the null hypothesis for alpha is 0.05\n",
      "Reject the null hypothesis for alpha is 0.01\n",
      "Reject the null hypothesis for alpha is 0.1\n"
     ]
    }
   ],
   "source": [
    "#Wilcoxon Signed Rank test\n",
    "statistic1 , Pvalue1 = scipy.stats.wilcoxon(wilcox[\"During\"], wilcox[\"After\"])\n",
    "print(\"The wilcoxon statistic = \" ,statistic1)\n",
    "print(\"The wilcoxon pvalue = \",Pvalue1)\n",
    "\n",
    "alpha4 = 0.05\n",
    "if alpha4 < Pvalue:\n",
    "    print(\"Fail to reject the null hypothesis for alpha is 0.05\")\n",
    "else:\n",
    "    print(\"Reject the null hypothesis for alpha is 0.05\")\n",
    "    \n",
    "alpha5 = 0.01\n",
    "if alpha5 < Pvalue:\n",
    "    print(\"Fail to reject the null hypothesis for alpha is 0.01\")\n",
    "else:\n",
    "    print(\"Reject the null hypothesis for alpha is 0.01\")    \n",
    "    \n",
    "alpha6 = 0.1\n",
    "if alpha6 < Pvalue:\n",
    "    print(\"Fail to reject the null hypothesis for alpha is 0.1\")\n",
    "else:\n",
    "    print(\"Reject the null hypothesis for alpha is 0.1\")    \n",
    "    "
   ]
  },
  {
   "cell_type": "code",
   "execution_count": null,
   "id": "35774b69",
   "metadata": {},
   "outputs": [],
   "source": []
  }
 ],
 "metadata": {
  "kernelspec": {
   "display_name": "Python 3",
   "language": "python",
   "name": "python3"
  },
  "language_info": {
   "codemirror_mode": {
    "name": "ipython",
    "version": 3
   },
   "file_extension": ".py",
   "mimetype": "text/x-python",
   "name": "python",
   "nbconvert_exporter": "python",
   "pygments_lexer": "ipython3",
   "version": "3.8.8"
  }
 },
 "nbformat": 4,
 "nbformat_minor": 5
}
